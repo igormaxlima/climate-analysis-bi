{
 "cells": [
  {
   "cell_type": "code",
   "execution_count": 4,
   "id": "c746625c-9b55-4410-85bd-3ede569397b1",
   "metadata": {},
   "outputs": [
    {
     "name": "stdout",
     "output_type": "stream",
     "text": [
      "Bucket 'climate-analysis' criado com sucesso.\n",
      "Arquivo '/home/jovyan/data/central_west.csv' enviado para o bucket 'climate-analysis' com o nome 'central_west.csv'.\n"
     ]
    }
   ],
   "source": [
    "import boto3\n",
    "from botocore.exceptions import NoCredentialsError, PartialCredentialsError\n",
    "\n",
    "minio_url = \"http://localhost:9000\"  \n",
    "access_key = \"minioadmin\"\n",
    "secret_key = \"minioadmin\" \n",
    "bucket_name = \"climate-analysis\"  \n",
    "file_path = \"/home/jovyan/data/central_west.csv\"  \n",
    "object_name = \"central_west.csv\"\n",
    "\n",
    "try:\n",
    "    s3_client = boto3.client(\n",
    "        's3',\n",
    "        endpoint_url=minio_url,\n",
    "        aws_access_key_id=access_key,\n",
    "        aws_secret_access_key=secret_key\n",
    "    )\n",
    "    \n",
    "    if bucket_name not in [bucket[\"Name\"] for bucket in s3_client.list_buckets()[\"Buckets\"]]:\n",
    "        s3_client.create_bucket(Bucket=bucket_name)\n",
    "        print(f\"Bucket '{bucket_name}' criado com sucesso.\")\n",
    "\n",
    "    s3_client.upload_file(file_path, bucket_name, object_name)\n",
    "    print(f\"Arquivo '{file_path}' enviado para o bucket '{bucket_name}' com o nome '{object_name}'.\")\n",
    "\n",
    "except FileNotFoundError:\n",
    "    print(f\"Arquivo não encontrado no caminho: {file_path}\")\n",
    "except NoCredentialsError:\n",
    "    print(\"Credenciais inválidas para o MinIO.\")\n",
    "except PartialCredentialsError:\n",
    "    print(\"Credenciais incompletas fornecidas para o MinIO.\")\n",
    "except Exception as e:\n",
    "    print(f\"Ocorreu um erro: {e}\")\n"
   ]
  },
  {
   "cell_type": "code",
   "execution_count": null,
   "id": "fe6a908e-d60e-4b75-8171-55eaf7fda6cb",
   "metadata": {},
   "outputs": [],
   "source": []
  }
 ],
 "metadata": {
  "kernelspec": {
   "display_name": "Python 3 (ipykernel)",
   "language": "python",
   "name": "python3"
  },
  "language_info": {
   "codemirror_mode": {
    "name": "ipython",
    "version": 3
   },
   "file_extension": ".py",
   "mimetype": "text/x-python",
   "name": "python",
   "nbconvert_exporter": "python",
   "pygments_lexer": "ipython3",
   "version": "3.11.6"
  }
 },
 "nbformat": 4,
 "nbformat_minor": 5
}
